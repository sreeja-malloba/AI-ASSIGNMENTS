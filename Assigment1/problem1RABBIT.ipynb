{
 "cells": [
  {
   "cell_type": "markdown",
   "id": "a4f8a183",
   "metadata": {},
   "source": [
    "# Rabbits"
   ]
  },
  {
   "cell_type": "markdown",
   "id": "2ab77840",
   "metadata": {},
   "source": [
    "### State of the rabbit\n"
   ]
  },
  {
   "cell_type": "code",
   "execution_count": 1,
   "id": "d06de379",
   "metadata": {},
   "outputs": [
    {
     "name": "stdout",
     "output_type": "stream",
     "text": [
      "State: R_RRLLL\n",
      "State: RR_RLLL\n",
      "State: RRRL_LL\n",
      "State: RRRLL_L\n"
     ]
    }
   ],
   "source": [
    "class PuzzleState:\n",
    "\n",
    "    def __init__(self, positions):\n",
    "        self.positions = positions\n",
    "\n",
    "    def is_goal(self):\n",
    "        return self.positions == ['L', 'L', 'L', '_', 'R', 'R', 'R']\n",
    "\n",
    "    def generate_next_states(self):\n",
    "        next_states = []\n",
    "        size = len(self.positions)\n",
    "\n",
    "        for idx in range(size):\n",
    "            current = self.positions[idx]\n",
    "\n",
    "            if current == 'R':\n",
    "                if idx + 1 < size and self.positions[idx + 1] == '_':\n",
    "                    config = self.positions[:]\n",
    "                    config[idx], config[idx + 1] = config[idx + 1], config[idx]\n",
    "                    next_states.append(PuzzleState(config))\n",
    "                \n",
    "                if idx + 2 < size and self.positions[idx + 2] == '_':\n",
    "                    config = self.positions[:]\n",
    "                    config[idx], config[idx + 2] = config[idx + 2], config[idx]\n",
    "                    next_states.append(PuzzleState(config))\n",
    "\n",
    "            elif current == 'L':\n",
    "                if idx - 1 >= 0 and self.positions[idx - 1] == '_':\n",
    "                    config = self.positions[:]\n",
    "                    config[idx], config[idx - 1] = config[idx - 1], config[idx]\n",
    "                    next_states.append(PuzzleState(config))\n",
    "\n",
    "                if idx - 2 >= 0 and self.positions[idx - 2] == '_':\n",
    "                    config = self.positions[:]\n",
    "                    config[idx], config[idx - 2] = config[idx - 2], config[idx]\n",
    "                    next_states.append(PuzzleState(config))\n",
    "\n",
    "        return next_states\n",
    "\n",
    "    def __eq__(self, other):\n",
    "        return isinstance(other, PuzzleState) and self.positions == other.positions\n",
    "\n",
    "    def __hash__(self):\n",
    "        return hash(tuple(self.positions))\n",
    "\n",
    "    def __str__(self):\n",
    "        return f\"State: {''.join(self.positions)}\"\n",
    "\n",
    "start = PuzzleState(['R', 'R', 'R', '_', 'L', 'L', 'L'])\n",
    "next_moves = start.generate_next_states()\n",
    "\n",
    "for move in next_moves:\n",
    "    print(move)\n"
   ]
  },
  {
   "cell_type": "markdown",
   "id": "f2ee41ff",
   "metadata": {},
   "source": [
    "### BFS"
   ]
  },
  {
   "cell_type": "code",
   "execution_count": 2,
   "id": "7d904b09",
   "metadata": {},
   "outputs": [
    {
     "name": "stdout",
     "output_type": "stream",
     "text": [
      "State: LLL_RRR\n",
      "State: LLLR_RR\n",
      "State: LL_RLRR\n",
      "State: L_LRLRR\n",
      "State: LRL_LRR\n",
      "State: LRLRL_R\n",
      "State: LRLRLR_\n",
      "State: LRLR_RL\n",
      "State: LR_RLRL\n",
      "State: _RLRLRL\n",
      "State: R_LRLRL\n",
      "State: RRL_LRL\n",
      "State: RRLRL_L\n",
      "State: RRLR_LL\n",
      "State: RR_RLLL\n",
      "State: RRR_LLL\n",
      "----END----\n"
     ]
    }
   ],
   "source": [
    "\n",
    "def removeSeen(children,OPEN,CLOSED):\n",
    "    open_nodes = [o for o,_ in OPEN]\n",
    "    closed_nodes = [c for c,_ in CLOSED]\n",
    "    new_nodes = [n for n in children if n not in open_nodes and n not in closed_nodes]\n",
    "    return new_nodes\n",
    "\n",
    "def reconstructPath(CLOSED,node):\n",
    "    pmap = {}\n",
    "    path = []\n",
    "    while CLOSED:\n",
    "        n,parent = CLOSED.pop()\n",
    "        pmap[n] = parent\n",
    "    while node:\n",
    "        path.append(node)\n",
    "        node = pmap[node]\n",
    "    return path\n",
    "\n",
    "def printPath(path):\n",
    "    k = 0\n",
    "    for i in path:\n",
    "        print(i)\n",
    "\n",
    "def bfs(state):\n",
    "    OPEN = [(state,None)]\n",
    "    CLOSED = []\n",
    "    while OPEN:\n",
    "        n,parent = OPEN.pop(0)\n",
    "        CLOSED.append((n,parent))\n",
    "        if(n.is_goal()):\n",
    "            path = reconstructPath(CLOSED,n)\n",
    "            printPath(path)\n",
    "            print(\"completed\")\n",
    "            return\n",
    "        children = n.generate_next_states()\n",
    "        valid_nodes = removeSeen(children,OPEN,CLOSED)\n",
    "        new_nodes = [(node,n) for node in valid_nodes]\n",
    "        OPEN = OPEN + new_nodes\n",
    "    return []\n",
    "\n",
    "state1 = PuzzleState(['R','R','R','_','L','L','L'])\n",
    "bfs(state1)"
   ]
  },
  {
   "cell_type": "markdown",
   "id": "031e8e67",
   "metadata": {},
   "source": [
    "### DFS"
   ]
  },
  {
   "cell_type": "code",
   "execution_count": 3,
   "id": "2b0ddf13",
   "metadata": {},
   "outputs": [
    {
     "name": "stdout",
     "output_type": "stream",
     "text": [
      "State: LLL_RRR\n",
      "State: LLLR_RR\n",
      "State: LL_RLRR\n",
      "State: L_LRLRR\n",
      "State: LRL_LRR\n",
      "State: LRLRL_R\n",
      "State: LRLRLR_\n",
      "State: LRLR_RL\n",
      "State: LR_RLRL\n",
      "State: _RLRLRL\n",
      "State: R_LRLRL\n",
      "State: RRL_LRL\n",
      "State: RRLRL_L\n",
      "State: RRLR_LL\n",
      "State: RR_RLLL\n",
      "State: RRR_LLL\n",
      "----END----\n"
     ]
    }
   ],
   "source": [
    "def dfs(state):\n",
    "    OPEN = [(state,None)]\n",
    "    CLOSED = []\n",
    "    while OPEN:\n",
    "        n,parent = OPEN.pop(0)\n",
    "        CLOSED.append((n,parent))\n",
    "        if(n.is_goal()):\n",
    "            path = reconstructPath(CLOSED,n)\n",
    "            printPath(path)\n",
    "            print(\"completed\")\n",
    "            return\n",
    "        children = n.generate_next_states()\n",
    "        valid_nodes = removeSeen(children,OPEN,CLOSED)\n",
    "        new_nodes = [(node,n) for node in valid_nodes]\n",
    "        OPEN = new_nodes + OPEN \n",
    "    return []\n",
    "\n",
    "state1 = PuzzleState(['R','R','R','_','L','L','L'])\n",
    "dfs(state1)"
   ]
  },
  {
   "cell_type": "code",
   "execution_count": null,
   "id": "1c1ecf4a",
   "metadata": {},
   "outputs": [],
   "source": []
  }
 ],
 "metadata": {
  "kernelspec": {
   "display_name": "Python 3 (ipykernel)",
   "language": "python",
   "name": "python3"
  },
  "language_info": {
   "codemirror_mode": {
    "name": "ipython",
    "version": 3
   },
   "file_extension": ".py",
   "mimetype": "text/x-python",
   "name": "python",
   "nbconvert_exporter": "python",
   "pygments_lexer": "ipython3",
   "version": "3.12.3"
  }
 },
 "nbformat": 4,
 "nbformat_minor": 5
}
